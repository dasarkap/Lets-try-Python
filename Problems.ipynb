{
 "cells": [
  {
   "cell_type": "code",
   "execution_count": 21,
   "metadata": {},
   "outputs": [
    {
     "name": "stdout",
     "output_type": "stream",
     "text": [
      "The 2nd largest element is: 102\n",
      "The largest element is: 104\n"
     ]
    }
   ],
   "source": [
    "#Check 2nd largest number\n",
    "nums=[89,67,56,78,65,86,99,93,90,104,102]\n",
    "largest=nums[0]\n",
    "Seceondlargetest=0\n",
    "for item in nums:\n",
    "    if item>largest:\n",
    "        Seceondlargetest=largest\n",
    "        largest=item\n",
    "    else:\n",
    "        if item>Seceondlargetest:\n",
    "            Seceondlargetest=item\n",
    "        \n",
    "print(\"The 2nd largest element is: \"+str(Seceondlargetest))\n",
    "print(\"The largest element is: \"+str(largest))"
   ]
  },
  {
   "cell_type": "code",
   "execution_count": 16,
   "metadata": {},
   "outputs": [
    {
     "name": "stdout",
     "output_type": "stream",
     "text": [
      "['O', '', '', '']\n",
      "Enter a no between 0-3 1\n",
      "Enter a no between 0-3 1\n",
      "Enter a no between 0-3 1\n",
      "Enter a no between 0-3 2\n",
      "Enter a no between 0-3 3\n",
      "Enter a no between 0-3 3\n",
      "Enter a no between 0-3 4\n",
      "Try with correct number\n",
      "Enter a no between 0-3 0\n",
      "Congrats you guessed it correctly with 7 counts\n"
     ]
    }
   ],
   "source": [
    "import random as rm\n",
    "goal=['','O','','']\n",
    "rm.shuffle(goal)\n",
    "check=True\n",
    "count=0\n",
    "while check:\n",
    "    guess=int(input(\"Enter a no between 0-3 \"))\n",
    "    if guess<4:\n",
    "        if goal[guess]=='O':\n",
    "            count+=1\n",
    "            print(\"Congrats you guessed it correctly with \"+str(count)+\" counts\")\n",
    "            check=False\n",
    "        else:\n",
    "            count+=1\n",
    "            continue\n",
    "    else:\n",
    "        print(\"Try with correct number\")\n",
    "        continue"
   ]
  },
  {
   "cell_type": "code",
   "execution_count": 26,
   "metadata": {},
   "outputs": [
    {
     "name": "stdout",
     "output_type": "stream",
     "text": [
      "The maximum number is 102\n",
      "The maximum number is 12\n"
     ]
    }
   ],
   "source": [
    "#Check for max and min\n",
    "numbers=[34,23,78,93,67,12,102]\n",
    "minimum=numbers[0]\n",
    "maximum=0\n",
    "for index,value in enumerate(numbers):\n",
    "    if value>maximum:\n",
    "        maximum=value\n",
    "    if value<minimum:\n",
    "        minimum=value\n",
    "print(\"The maximum number is \"+str(maximum))\n",
    "print(\"The maximum number is \"+str(minimum))"
   ]
  },
  {
   "cell_type": "code",
   "execution_count": null,
   "metadata": {},
   "outputs": [],
   "source": []
  }
 ],
 "metadata": {
  "kernelspec": {
   "display_name": "Python 3",
   "language": "python",
   "name": "python3"
  },
  "language_info": {
   "codemirror_mode": {
    "name": "ipython",
    "version": 3
   },
   "file_extension": ".py",
   "mimetype": "text/x-python",
   "name": "python",
   "nbconvert_exporter": "python",
   "pygments_lexer": "ipython3",
   "version": "3.8.5"
  }
 },
 "nbformat": 4,
 "nbformat_minor": 4
}
